{
 "cells": [
  {
   "cell_type": "code",
   "execution_count": null,
   "metadata": {},
   "outputs": [],
   "source": [
    "import pandas as pd\n",
    "import matplotlib.pyplot as plt\n",
    "\n",
    "gafas = pd.DataFrame (\n",
    "    {\n",
    "        'marca' : ['rayban','police','dior','vogue','prada'],\n",
    "        'color' : ['rojo','rosa','azul','verde','negro'],\n",
    "        'precio': [350,250,225,360,400],\n",
    "        'ventas' : [600,800,1000,1200,1600]\n",
    "    },columns=['marca','color','precio','ventas']\n",
    ")"
   ]
  }
 ],
 "metadata": {
  "kernelspec": {
   "display_name": "Python 3",
   "language": "python",
   "name": "python3"
  },
  "language_info": {
   "codemirror_mode": {
    "name": "ipython",
    "version": 3
   },
   "file_extension": ".py",
   "mimetype": "text/x-python",
   "name": "python",
   "nbconvert_exporter": "python",
   "pygments_lexer": "ipython3",
   "version": "3.5.5"
  }
 },
 "nbformat": 4,
 "nbformat_minor": 2
}
